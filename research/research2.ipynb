{
 "cells": [
  {
   "cell_type": "markdown",
   "metadata": {},
   "source": [
    "```\n",
    "1. Data Ingestion Layer\n",
    "   ├── Document Loaders (PDF, HTML, Text, etc.)\n",
    "   ├── Text Extraction\n",
    "   └── Data Cleaning\n",
    "\n",
    "2. Chunking Layer\n",
    "   ├── Strategy Selector (Size-based, Semantic, Recursive)\n",
    "   └── Chunking Configuration\n",
    "\n",
    "3. Embedding Layer\n",
    "   ├── Model Selector (OpenAI, HuggingFace, etc.)\n",
    "   └── Embedding Configuration\n",
    "\n",
    "4. Retrieval Layer\n",
    "   ├── Retriever Selector (BM25, Vector, Hybrid)\n",
    "   ├── Reranking Integration\n",
    "   └── Retrieval Configuration\n",
    "\n",
    "5. Generation Layer\n",
    "   ├── LLM Selector\n",
    "   ├── Prompt Templates\n",
    "   └── Response Generation\n",
    "\n",
    "6. Evaluation Layer\n",
    "   ├── Metrics (Precision, Recall, Relevance)\n",
    "   ├── Benchmarking\n",
    "   └── Performance Tracking\n",
    "```"
   ]
  },
  {
   "cell_type": "markdown",
   "metadata": {},
   "source": [
    "INPUT là file PDF \n",
    "---\n",
    "output là luồng RAG và chạy benchmark được với các kỹ thuật khác nhau trong 6 phần \n",
    "\n",
    "```\n",
    "1. Data Ingestion Layer\n",
    "   ├── Document Loaders (PDF, HTML, Text, etc.)\n",
    "   ├── Text Extraction\n",
    "   └── Data Cleaning\n",
    "\n",
    "2. Chunking Layer\n",
    "   ├── Strategy Selector (Size-based, Semantic, Recursive)\n",
    "   └── Chunking Configuration\n",
    "\n",
    "3. Embedding Layer\n",
    "   ├── Model Selector (OpenAI, HuggingFace, etc.)\n",
    "   └── Embedding Configuration\n",
    "\n",
    "4. Retrieval Layer\n",
    "   ├── Retriever Selector (BM25, Vector, Hybrid)\n",
    "   ├── Reranking Integration\n",
    "   └── Retrieval Configuration\n",
    "\n",
    "5. Generation Layer\n",
    "   ├── LLM Selector\n",
    "   ├── Prompt Templates\n",
    "   └── Response Generation\n",
    "\n",
    "6. Evaluation Layer\n",
    "   ├── Metrics (Precision, Recall, Relevance)\n",
    "   ├── Benchmarking\n",
    "   └── Performance Tracking\n",
    "```\n",
    "\n",
    "thì FLASH RAG hỗ trợ ko ý "
   ]
  },
  {
   "cell_type": "markdown",
   "metadata": {},
   "source": []
  }
 ],
 "metadata": {
  "language_info": {
   "name": "python"
  }
 },
 "nbformat": 4,
 "nbformat_minor": 2
}
